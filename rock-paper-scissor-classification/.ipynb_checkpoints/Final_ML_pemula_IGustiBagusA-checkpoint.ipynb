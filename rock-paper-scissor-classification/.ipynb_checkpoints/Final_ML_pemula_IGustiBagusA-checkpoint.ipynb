{
 "cells": [
  {
   "cell_type": "markdown",
   "metadata": {
    "colab_type": "text",
    "id": "TTtQqUa13TB-"
   },
   "source": [
    "# Rock Paper Scissor Classification\n",
    "\n",
    "Created by : I Gusti Bagus Awienandra\n",
    "https://github.com/rainoverme002\n"
   ]
  },
  {
   "cell_type": "markdown",
   "metadata": {
    "colab_type": "text",
    "id": "nqOefPV-BVZQ"
   },
   "source": [
    "## Import dependencies"
   ]
  },
  {
   "cell_type": "code",
   "execution_count": 0,
   "metadata": {
    "colab": {},
    "colab_type": "code",
    "id": "P9xrn-ZS3XmX"
   },
   "outputs": [],
   "source": [
    "import tensorflow as tf\n",
    "import shutil\n",
    "from tensorflow.keras.optimizers import RMSprop\n",
    "from tensorflow.keras.preprocessing.image import ImageDataGenerator\n",
    "\n",
    "# Fix Error: Initializing libiomp5.dylib, but found libiomp5.dylib already initialized\n",
    "import os\n",
    "os.environ['KMP_DUPLICATE_LIB_OK']='True'"
   ]
  },
  {
   "cell_type": "markdown",
   "metadata": {
    "colab_type": "text",
    "id": "dfBbbXXd4xbL"
   },
   "source": [
    "print the tensorflow version"
   ]
  },
  {
   "cell_type": "code",
   "execution_count": 2,
   "metadata": {
    "colab": {
     "base_uri": "https://localhost:8080/",
     "height": 34
    },
    "colab_type": "code",
    "id": "OzAw82n24cF6",
    "outputId": "0d49741f-f8b4-44ad-fa69-6d252b6df058"
   },
   "outputs": [
    {
     "name": "stdout",
     "output_type": "stream",
     "text": [
      "2.2.0\n"
     ]
    }
   ],
   "source": [
    "print(tf.__version__)"
   ]
  },
  {
   "cell_type": "markdown",
   "metadata": {
    "colab_type": "text",
    "id": "j8HBOKSS40Jm"
   },
   "source": [
    "download the training and validation data"
   ]
  },
  {
   "cell_type": "code",
   "execution_count": 3,
   "metadata": {
    "colab": {
     "base_uri": "https://localhost:8080/",
     "height": 224
    },
    "colab_type": "code",
    "id": "IeQcrFyU4gI0",
    "outputId": "bafb5b58-6462-4a52-ab20-4807a8b99c6d"
   },
   "outputs": [
    {
     "name": "stdout",
     "output_type": "stream",
     "text": [
      "--2020-05-17 15:02:03--  https://dicodingacademy.blob.core.windows.net/picodiploma/ml_pemula_academy/rockpaperscissors.zip\n",
      "Resolving dicodingacademy.blob.core.windows.net (dicodingacademy.blob.core.windows.net)... 52.239.197.36\n",
      "Connecting to dicodingacademy.blob.core.windows.net (dicodingacademy.blob.core.windows.net)|52.239.197.36|:443... connected.\n",
      "HTTP request sent, awaiting response... 200 OK\n",
      "Length: 322873683 (308M) [application/zip]\n",
      "Saving to: ‘/tmp/rockpaperscissors.zip’\n",
      "\n",
      "/tmp/rockpapersciss 100%[===================>] 307.92M  20.7MB/s    in 17s     \n",
      "\n",
      "2020-05-17 15:02:20 (18.3 MB/s) - ‘/tmp/rockpaperscissors.zip’ saved [322873683/322873683]\n",
      "\n"
     ]
    }
   ],
   "source": [
    "!wget --no-check-certificate \\\n",
    "  https://dicodingacademy.blob.core.windows.net/picodiploma/ml_pemula_academy/rockpaperscissors.zip \\\n",
    "  -O /tmp/rockpaperscissors.zip\n",
    "  "
   ]
  },
  {
   "cell_type": "markdown",
   "metadata": {
    "colab_type": "text",
    "id": "Z4s9kuSE44H0"
   },
   "source": [
    "zip extraction"
   ]
  },
  {
   "cell_type": "code",
   "execution_count": 0,
   "metadata": {
    "colab": {},
    "colab_type": "code",
    "id": "8jfrQxmx4t8v"
   },
   "outputs": [],
   "source": [
    "# extract the downloaded zip file\n",
    "import zipfile,os\n",
    "local_zip = '/tmp/rockpaperscissors.zip'\n",
    "zip_ref = zipfile.ZipFile(local_zip, 'r')\n",
    "zip_ref.extractall('/tmp')\n",
    "zip_ref.close()"
   ]
  },
  {
   "cell_type": "markdown",
   "metadata": {
    "colab_type": "text",
    "id": "IQatqVuC5FuP"
   },
   "source": [
    "create base directory"
   ]
  },
  {
   "cell_type": "code",
   "execution_count": 0,
   "metadata": {
    "colab": {},
    "colab_type": "code",
    "id": "D3BeGen65D6Q"
   },
   "outputs": [],
   "source": [
    "base_dir = '/tmp/images'\n",
    "\n",
    "# make sure it empty\n",
    "if os.path.isdir('base_dir'):\n",
    "  shutil.rmtree(base_dir, ignore_errors=False, onerror=None)\n",
    "\n",
    "# create base_dir\n",
    "os.mkdir(base_dir)\n",
    "\n",
    "# train & validation dir\n",
    "os.mkdir(base_dir + '/train')\n",
    "os.mkdir(base_dir + '/val')\n",
    "train_dir = os.path.join(base_dir, 'train')\n",
    "validation_dir = os.path.join(base_dir, 'val')\n",
    "\n",
    "# rock paper scissor train dir\n",
    "os.mkdir(train_dir + '/rock')\n",
    "os.mkdir(train_dir + '/paper')\n",
    "os.mkdir(train_dir + '/scissors')\n",
    "\n",
    "# rock paper scissor train dir\n",
    "os.mkdir(validation_dir + '/rock')\n",
    "os.mkdir(validation_dir + '/paper')\n",
    "os.mkdir(validation_dir + '/scissors')"
   ]
  },
  {
   "cell_type": "markdown",
   "metadata": {
    "colab_type": "text",
    "id": "HHN0MmHy8448"
   },
   "source": [
    "check directory is already created"
   ]
  },
  {
   "cell_type": "code",
   "execution_count": 6,
   "metadata": {
    "colab": {
     "base_uri": "https://localhost:8080/",
     "height": 34
    },
    "colab_type": "code",
    "id": "pfiyUiqz7VPm",
    "outputId": "d9553660-521c-4850-e45a-d5243e46fbdc"
   },
   "outputs": [
    {
     "data": {
      "text/plain": [
       "['paper', 'scissors', 'rock']"
      ]
     },
     "execution_count": 6,
     "metadata": {
      "tags": []
     },
     "output_type": "execute_result"
    }
   ],
   "source": [
    "os.listdir('/tmp/images/train')"
   ]
  },
  {
   "cell_type": "code",
   "execution_count": 7,
   "metadata": {
    "colab": {
     "base_uri": "https://localhost:8080/",
     "height": 34
    },
    "colab_type": "code",
    "id": "LzsH2Aqp82jd",
    "outputId": "3a63558b-1f4c-4b36-ed05-91fba2de04a1"
   },
   "outputs": [
    {
     "data": {
      "text/plain": [
       "['paper', 'scissors', 'rock']"
      ]
     },
     "execution_count": 7,
     "metadata": {
      "tags": []
     },
     "output_type": "execute_result"
    }
   ],
   "source": [
    "os.listdir('/tmp/images/val')"
   ]
  },
  {
   "cell_type": "markdown",
   "metadata": {
    "colab_type": "text",
    "id": "SZYlPB54DkWb"
   },
   "source": [
    "## Split Image Randomly into validation and train directory"
   ]
  },
  {
   "cell_type": "code",
   "execution_count": 0,
   "metadata": {
    "colab": {},
    "colab_type": "code",
    "id": "S8ZqIU2EAZU5"
   },
   "outputs": [],
   "source": [
    "import glob\n",
    "import random\n",
    "\n",
    "def random_copy_image(directory, data_type):\n",
    "  data_size = 150\n",
    "  if directory == 'train': data_size = 600\n",
    "\n",
    "  to_be_moved = random.sample(glob.glob(\"/tmp/rockpaperscissors/{}/*.png\".format(data_type)), data_size)\n",
    "\n",
    "  for f in enumerate(to_be_moved, 1):\n",
    "      dest = os.path.join('/tmp/images/{}/{}'.format(directory, data_type))\n",
    "      if not os.path.exists(dest):\n",
    "          os.makedirs(dest)\n",
    "      shutil.copy(f[1], dest)"
   ]
  },
  {
   "cell_type": "code",
   "execution_count": 0,
   "metadata": {
    "colab": {},
    "colab_type": "code",
    "id": "OuyI_v2IDuol"
   },
   "outputs": [],
   "source": [
    "random_copy_image('train', 'paper')\n",
    "random_copy_image('train', 'rock')\n",
    "random_copy_image('train', 'scissors')\n",
    "\n",
    "random_copy_image('val', 'paper')\n",
    "random_copy_image('val', 'rock')\n",
    "random_copy_image('val', 'scissors')"
   ]
  },
  {
   "cell_type": "markdown",
   "metadata": {
    "colab_type": "text",
    "id": "7SFVrUmD9DPj"
   },
   "source": [
    "assign directory"
   ]
  },
  {
   "cell_type": "code",
   "execution_count": 0,
   "metadata": {
    "colab": {},
    "colab_type": "code",
    "id": "ZE5Tx8MH9Cye"
   },
   "outputs": [],
   "source": [
    "# create train directory\n",
    "train_paper_dir = os.path.join(train_dir, 'paper')\n",
    "train_rock_dir = os.path.join(train_dir, 'rock')\n",
    "train_scissor_dir = os.path.join(train_dir, 'scissor')\n",
    " \n",
    "# create validation directory\n",
    "validation_paper_dir = os.path.join(validation_dir, 'paper')\n",
    "validation_rock_dir = os.path.join(validation_dir, 'rock')\n",
    "validation_scissor_dir = os.path.join(validation_dir, 'scissor')"
   ]
  },
  {
   "cell_type": "markdown",
   "metadata": {
    "colab_type": "text",
    "id": "Q4hyLMf0_SHV"
   },
   "source": [
    "## Generate Image Data"
   ]
  },
  {
   "cell_type": "code",
   "execution_count": 0,
   "metadata": {
    "colab": {},
    "colab_type": "code",
    "id": "E28uCEGw_RjM"
   },
   "outputs": [],
   "source": [
    "# prepare the testing and training data using ImageDataGenerator\n",
    "\n",
    "train_datagen = ImageDataGenerator(\n",
    "                    rescale=1./255,\n",
    "                    rotation_range=20,\n",
    "                    horizontal_flip=True,\n",
    "                    shear_range = 0.2,\n",
    "                    fill_mode = 'nearest')\n",
    " \n",
    "test_datagen = ImageDataGenerator(\n",
    "                    rescale=1./255,\n",
    "                    rotation_range=20,\n",
    "                    horizontal_flip=True,\n",
    "                    shear_range = 0.2,\n",
    "                    fill_mode = 'nearest')"
   ]
  },
  {
   "cell_type": "code",
   "execution_count": 12,
   "metadata": {
    "colab": {
     "base_uri": "https://localhost:8080/",
     "height": 51
    },
    "colab_type": "code",
    "id": "ryWi2YXP_cZe",
    "outputId": "66d0b826-8019-4367-ff3c-6fbbed7b2c5b"
   },
   "outputs": [
    {
     "name": "stdout",
     "output_type": "stream",
     "text": [
      "Found 1800 images belonging to 3 classes.\n",
      "Found 450 images belonging to 3 classes.\n"
     ]
    }
   ],
   "source": [
    "train_generator = train_datagen.flow_from_directory(\n",
    "        train_dir, # training directory\n",
    "        target_size=(150, 150),  # change the resolution into 150 x 150\n",
    "        batch_size=4,\n",
    "        # multi class classification class_mode = 'categorical'\n",
    "        class_mode='categorical')\n",
    " \n",
    "validation_generator = test_datagen.flow_from_directory(\n",
    "        validation_dir,\n",
    "        target_size=(150, 150),\n",
    "        batch_size=4,\n",
    "        class_mode='categorical')"
   ]
  },
  {
   "cell_type": "markdown",
   "metadata": {
    "colab_type": "text",
    "id": "rBM1EFkaGNzk"
   },
   "source": [
    "## Model Building using Keras"
   ]
  },
  {
   "cell_type": "code",
   "execution_count": 0,
   "metadata": {
    "colab": {},
    "colab_type": "code",
    "id": "deDb8UOEGQmv"
   },
   "outputs": [],
   "source": [
    "# create CNN architecture with Keras\n",
    "model = tf.keras.models.Sequential([\n",
    "    tf.keras.layers.Conv2D(32, (3,3), activation='relu', input_shape=(150, 150, 3)),\n",
    "    tf.keras.layers.MaxPooling2D(2, 2),\n",
    "    tf.keras.layers.Conv2D(64, (3,3), activation='relu'),\n",
    "    tf.keras.layers.MaxPooling2D(2,2),\n",
    "    tf.keras.layers.Conv2D(128, (3,3), activation='relu'),\n",
    "    tf.keras.layers.MaxPooling2D(2,2),\n",
    "    tf.keras.layers.Conv2D(128, (3,3), activation='relu'),\n",
    "    tf.keras.layers.MaxPooling2D(2,2),\n",
    "    tf.keras.layers.Flatten(),\n",
    "    tf.keras.layers.Dense(500, input_dim=4, activation='relu'),\n",
    "    tf.keras.layers.Dropout(0.2), # add dropout regulatization\n",
    "    tf.keras.layers.Dense(3, activation='softmax')\n",
    "])"
   ]
  },
  {
   "cell_type": "markdown",
   "metadata": {
    "colab_type": "text",
    "id": "KyW8jK8un4L2"
   },
   "source": [
    "Exponential Decay Learning Rate"
   ]
  },
  {
   "cell_type": "markdown",
   "metadata": {
    "colab_type": "text",
    "id": "FH-NE4ZxVHyV"
   },
   "source": [
    "You can use SGD or Adam Optimizer"
   ]
  },
  {
   "cell_type": "code",
   "execution_count": 0,
   "metadata": {
    "colab": {},
    "colab_type": "code",
    "id": "R-Ix03B5n7yg"
   },
   "outputs": [],
   "source": [
    "option = 'SGD' #change this one for different optimizer\n",
    "\n",
    "if option == 'SGD':\n",
    "    optimizer = tf.keras.optimizers.SGD(lr=0.1, momentum=0.0, decay=0.0, nesterov=False)\n",
    "\n",
    "if option == 'Adam':\n",
    "    optimizer = tf.keras.optimizers.Adam(lr=0.001, beta_1=0.9, beta_2=0.999, epsilon=1e-08, decay=0.0)"
   ]
  },
  {
   "cell_type": "code",
   "execution_count": 0,
   "metadata": {
    "colab": {},
    "colab_type": "code",
    "id": "qr8j-vKxGWxZ"
   },
   "outputs": [],
   "source": [
    "# call compile function\n",
    "model.compile(loss='binary_crossentropy',\n",
    "              optimizer=optimizer,\n",
    "              metrics=['accuracy'])"
   ]
  },
  {
   "cell_type": "code",
   "execution_count": 16,
   "metadata": {
    "colab": {
     "base_uri": "https://localhost:8080/",
     "height": 34
    },
    "colab_type": "code",
    "id": "wOYvWY6ZGZi1",
    "outputId": "ca8bd760-aa79-4ac0-f978-100a77d4457e"
   },
   "outputs": [
    {
     "name": "stdout",
     "output_type": "stream",
     "text": [
      "Requirement already satisfied: pillow in /usr/local/lib/python3.6/dist-packages (7.0.0)\n"
     ]
    }
   ],
   "source": [
    "! pip install --user pillow # if you dont have pillow"
   ]
  },
  {
   "cell_type": "markdown",
   "metadata": {
    "colab_type": "text",
    "id": "f3hKNfiHUX_C"
   },
   "source": [
    "Add Call Back"
   ]
  },
  {
   "cell_type": "code",
   "execution_count": 0,
   "metadata": {
    "colab": {},
    "colab_type": "code",
    "id": "GbLyXqgTUZK-"
   },
   "outputs": [],
   "source": [
    "my_callbacks = [\n",
    "    tf.keras.callbacks.EarlyStopping(monitor='accuracy', patience=3), # will patienly wait 3 epoch to halt the training\n",
    "    tf.keras.callbacks.ModelCheckpoint(filepath='model.{epoch:02d}-{val_loss:.2f}.h5'),\n",
    "    tf.keras.callbacks.TensorBoard(log_dir='./logs'),\n",
    "]"
   ]
  },
  {
   "cell_type": "markdown",
   "metadata": {
    "colab_type": "text",
    "id": "9Aju0ew7Gh8w"
   },
   "source": [
    "## Model Training"
   ]
  },
  {
   "cell_type": "code",
   "execution_count": 22,
   "metadata": {
    "colab": {
     "base_uri": "https://localhost:8080/",
     "height": 323
    },
    "colab_type": "code",
    "id": "9B3ArHa4Ggoq",
    "outputId": "cc021c66-4fea-4cbf-c370-c11e655f42a6"
   },
   "outputs": [
    {
     "name": "stdout",
     "output_type": "stream",
     "text": [
      "Epoch 1/20\n",
      "80/80 - 18s - loss: 0.2979 - accuracy: 0.7750 - val_loss: 0.1577 - val_accuracy: 0.8625\n",
      "Epoch 2/20\n",
      "80/80 - 18s - loss: 0.1956 - accuracy: 0.8875 - val_loss: 0.1456 - val_accuracy: 0.9500\n",
      "Epoch 3/20\n",
      "80/80 - 18s - loss: 0.1533 - accuracy: 0.8969 - val_loss: 0.2237 - val_accuracy: 0.8500\n",
      "Epoch 4/20\n",
      "80/80 - 18s - loss: 0.1634 - accuracy: 0.9312 - val_loss: 0.1111 - val_accuracy: 0.9375\n",
      "Epoch 5/20\n",
      "80/80 - 18s - loss: 0.1279 - accuracy: 0.9312 - val_loss: 0.1490 - val_accuracy: 0.8974\n",
      "Epoch 6/20\n",
      "80/80 - 18s - loss: 0.1573 - accuracy: 0.9156 - val_loss: 0.1802 - val_accuracy: 0.9125\n",
      "Epoch 7/20\n",
      "80/80 - 18s - loss: 0.1492 - accuracy: 0.9156 - val_loss: 0.0876 - val_accuracy: 0.9125\n",
      "Epoch 8/20\n",
      "80/80 - 18s - loss: 0.1682 - accuracy: 0.9000 - val_loss: 0.0564 - val_accuracy: 0.9625\n",
      "Epoch 9/20\n",
      "80/80 - 18s - loss: 0.1307 - accuracy: 0.9219 - val_loss: 0.1034 - val_accuracy: 0.9625\n"
     ]
    }
   ],
   "source": [
    "prediction_model = model.fit(\n",
    "      train_generator,\n",
    "      steps_per_epoch=80,  # how many batch per epoch for training\n",
    "      epochs=25,\n",
    "      validation_data=validation_generator, # display validation accuracy\n",
    "      validation_steps=20,  # how many batch per epoch for validation\n",
    "      verbose=2,\n",
    "      callbacks=my_callbacks)"
   ]
  },
  {
   "cell_type": "markdown",
   "metadata": {
    "colab_type": "text",
    "id": "sQqFqTfwWjNY"
   },
   "source": [
    "## Training Summary"
   ]
  },
  {
   "cell_type": "code",
   "execution_count": 23,
   "metadata": {
    "colab": {
     "base_uri": "https://localhost:8080/",
     "height": 573
    },
    "colab_type": "code",
    "id": "EP7aQu8MWkwY",
    "outputId": "90e39e0a-61e5-4b74-cd97-29f582eccb9b"
   },
   "outputs": [
    {
     "data": {
      "image/png": "[encoded data removed]",
      "text/plain": [
       "<Figure size 432x288 with 1 Axes>"
      ]
     },
     "metadata": {
      "needs_background": "light",
      "tags": []
     },
     "output_type": "display_data"
    },
    {
     "data": {
      "image/png": "[encoded data removed]",
      "text/plain": [
       "<Figure size 432x288 with 1 Axes>"
      ]
     },
     "metadata": {
      "needs_background": "light",
      "tags": []
     },
     "output_type": "display_data"
    }
   ],
   "source": [
    "import numpy as np\n",
    "from google.colab import files\n",
    "from keras.preprocessing import image\n",
    "import matplotlib.pyplot as plt\n",
    "import matplotlib.image as mpimg\n",
    "import matplotlib.pyplot as plt\n",
    "import matplotlib.image as mpimg\n",
    "%matplotlib inline\n",
    "\n",
    "# summarize history for accuracy\n",
    "plt.plot(prediction_model.history['accuracy'])\n",
    "plt.plot(prediction_model.history['val_accuracy'])\n",
    "plt.title('model accuracy')\n",
    "plt.ylabel('accuracy')\n",
    "plt.xlabel('epoch')\n",
    "plt.legend(['train', 'test'], loc='upper left')\n",
    "plt.show()\n",
    "# summarize history for loss\n",
    "plt.plot(prediction_model.history['loss'])\n",
    "plt.plot(prediction_model.history['val_loss'])\n",
    "plt.title('model loss')\n",
    "plt.ylabel('loss')\n",
    "plt.xlabel('epoch')\n",
    "plt.legend(['train', 'test'], loc='upper left')\n",
    "plt.show()"
   ]
  },
  {
   "cell_type": "markdown",
   "metadata": {
    "colab_type": "text",
    "id": "oaVUPSSAJo4S"
   },
   "source": [
    "## Check Model After Training"
   ]
  },
  {
   "cell_type": "code",
   "execution_count": 0,
   "metadata": {
    "colab": {},
    "colab_type": "code",
    "id": "FqBINN_5JoZO"
   },
   "outputs": [],
   "source": [
    "uploaded = files.upload()\n",
    " \n",
    "for fn in uploaded.keys():\n",
    " \n",
    "  # predicting images\n",
    "  path = fn\n",
    "  img = image.load_img(path, target_size=(150,150))\n",
    "  imgplot = plt.imshow(img)\n",
    "  x = image.img_to_array(img)\n",
    "  x = np.expand_dims(x, axis=0)\n",
    " \n",
    "  images = np.vstack([x])\n",
    "\n",
    "  classes = model.predict(images, batch_size=10)\n",
    "\n",
    "  plt.imshow(img)\n",
    "  plt.show()\n",
    "\n",
    "  if classes[0][0] > classes[0][1] and classes[0][0] > classes[0][2]: print('Paper')\n",
    "\n",
    "  if classes[0][1] > classes[0][0] and classes[0][1] > classes[0][2]: print('Rock')\n",
    "\n",
    "  if classes[0][2] > classes[0][0] and classes[0][2] > classes[0][1]: print('Scissor')\n",
    "\n",
    "  print(classes)"
   ]
  },
  {
   "cell_type": "markdown",
   "metadata": {},
   "source": [
    "## Conclusion\n",
    "\n",
    "- Accuracy of the model is pretty high\n",
    "- SGD Optimizer with current hyperparameter is done better than the Adam Optimizer"
   ]
  },
  {
   "cell_type": "code",
   "execution_count": null,
   "metadata": {},
   "outputs": [],
   "source": []
  }
 ],
 "metadata": {
  "colab": {
   "collapsed_sections": [],
   "name": "Final_ML_pemula_IGustiBagusA.ipynb",
   "provenance": [],
   "toc_visible": true
  },
  "kernelspec": {
   "display_name": "Python 3",
   "language": "python",
   "name": "python3"
  },
  "language_info": {
   "codemirror_mode": {
    "name": "ipython",
    "version": 3
   },
   "file_extension": ".py",
   "mimetype": "text/x-python",
   "name": "python",
   "nbconvert_exporter": "python",
   "pygments_lexer": "ipython3",
   "version": "3.7.6"
  }
 },
 "nbformat": 4,
 "nbformat_minor": 1
}
