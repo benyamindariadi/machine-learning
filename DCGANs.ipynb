{
 "cells": [
  {
   "cell_type": "code",
   "execution_count": 1,
   "metadata": {},
   "outputs": [],
   "source": [
    "import pandas as pd\n",
    "import numpy as np\n",
    "import matplotlib.pyplot as plt\n",
    "%matplotlib inline\n",
    "import os\n",
    "import cv2"
   ]
  },
  {
   "cell_type": "code",
   "execution_count": 2,
   "metadata": {},
   "outputs": [],
   "source": [
    "data_dir= r'C:\\Users\\Benyamin\\Downloads\\DATASET\\four-shapes\\shapes\\star' "
   ]
  },
  {
   "cell_type": "code",
   "execution_count": 3,
   "metadata": {},
   "outputs": [
    {
     "data": {
      "image/png": "[encoded data removed]",
      "text/plain": [
       "<Figure size 432x288 with 1 Axes>"
      ]
     },
     "metadata": {
      "needs_background": "light"
     },
     "output_type": "display_data"
    }
   ],
   "source": [
    "for img in os.listdir(data_dir):        \n",
    "    img_array=cv2.imread(os.path.join(data_dir,img), cv2.IMREAD_GRAYSCALE)\n",
    "    plt.imshow(img_array) \n",
    "    break  \n",
    "  \n",
    "    \n"
   ]
  },
  {
   "cell_type": "code",
   "execution_count": 4,
   "metadata": {},
   "outputs": [
    {
     "name": "stdout",
     "output_type": "stream",
     "text": [
      "[[255 255 255 ... 255 255 255]\n",
      " [255 255 255 ... 255 255 255]\n",
      " [255 255 255 ... 255 255 255]\n",
      " ...\n",
      " [255 255 255 ... 255 255 255]\n",
      " [255 255 255 ... 255 255 255]\n",
      " [255 255 255 ... 255 255 255]]\n"
     ]
    },
    {
     "data": {
      "text/plain": [
       "(200, 200)"
      ]
     },
     "execution_count": 4,
     "metadata": {},
     "output_type": "execute_result"
    }
   ],
   "source": [
    "print(img_array)\n",
    "img_array.shape"
   ]
  },
  {
   "cell_type": "code",
   "execution_count": 5,
   "metadata": {},
   "outputs": [
    {
     "data": {
      "text/plain": [
       "<matplotlib.image.AxesImage at 0x299b4367fc8>"
      ]
     },
     "execution_count": 5,
     "metadata": {},
     "output_type": "execute_result"
    },
    {
     "data": {
      "image/png": "[encoded data removed]",
      "text/plain": [
       "<Figure size 432x288 with 1 Axes>"
      ]
     },
     "metadata": {
      "needs_background": "light"
     },
     "output_type": "display_data"
    }
   ],
   "source": [
    "new_array=cv2.resize(img_array,(40,40)) \n",
    "plt.imshow(new_array)"
   ]
  },
  {
   "cell_type": "code",
   "execution_count": 6,
   "metadata": {},
   "outputs": [
    {
     "data": {
      "image/png": "[encoded data removed]",
      "text/plain": [
       "<Figure size 432x288 with 1 Axes>"
      ]
     },
     "metadata": {
      "needs_background": "light"
     },
     "output_type": "display_data"
    }
   ],
   "source": [
    "train=[]\n",
    "\n",
    "def create_training_data():\n",
    "    for img in os.listdir(data_dir):\n",
    "        img_array=cv2.imread(os.path.join(data_dir,img), cv2.IMREAD_GRAYSCALE)\n",
    "        new_array=cv2.resize(img_array,(40,40))\n",
    "        train.append(new_array)\n",
    "        plt.imshow(img_array) \n",
    "          \n",
    "\n",
    "create_training_data()"
   ]
  },
  {
   "cell_type": "code",
   "execution_count": 7,
   "metadata": {},
   "outputs": [
    {
     "name": "stdout",
     "output_type": "stream",
     "text": [
      "3765\n"
     ]
    }
   ],
   "source": [
    "print(len(train))"
   ]
  },
  {
   "cell_type": "code",
   "execution_count": 8,
   "metadata": {},
   "outputs": [],
   "source": [
    "X_train=[]\n",
    "for features in train:  \n",
    "    X_train.append(features)\n",
    "\n"
   ]
  },
  {
   "cell_type": "code",
   "execution_count": 9,
   "metadata": {},
   "outputs": [
    {
     "data": {
      "text/plain": [
       "array([[255, 255, 255, ..., 255, 255, 255],\n",
       "       [255, 255, 255, ..., 255, 255, 255],\n",
       "       [255, 255, 255, ..., 255, 255, 255],\n",
       "       ...,\n",
       "       [255, 255, 255, ..., 255, 255, 255],\n",
       "       [255, 255, 255, ..., 255, 255, 255],\n",
       "       [255, 255, 255, ..., 255, 255, 255]], dtype=uint8)"
      ]
     },
     "execution_count": 9,
     "metadata": {},
     "output_type": "execute_result"
    }
   ],
   "source": [
    "X_train[0]"
   ]
  },
  {
   "cell_type": "code",
   "execution_count": 10,
   "metadata": {},
   "outputs": [
    {
     "name": "stdout",
     "output_type": "stream",
     "text": [
      "(3765, 40, 40)\n",
      "(40, 40)\n"
     ]
    }
   ],
   "source": [
    "X_train = np.array(X_train)/255\n",
    "print(X_train.shape)\n",
    "print(X_train[0].shape)"
   ]
  },
  {
   "cell_type": "code",
   "execution_count": 11,
   "metadata": {},
   "outputs": [
    {
     "name": "stdout",
     "output_type": "stream",
     "text": [
      "0.0\n",
      "1.0\n"
     ]
    }
   ],
   "source": [
    "print(X_train.min())\n",
    "print(X_train.max())"
   ]
  },
  {
   "cell_type": "code",
   "execution_count": 12,
   "metadata": {},
   "outputs": [
    {
     "name": "stdout",
     "output_type": "stream",
     "text": [
      "(3765, 40, 40, 1)\n",
      "(40, 40, 1)\n"
     ]
    }
   ],
   "source": [
    "X_train =X_train.reshape(-1, 40, 40, 1) * 2. - 1.\n",
    "print(X_train.shape)\n",
    "print(X_train[0].shape)"
   ]
  },
  {
   "cell_type": "code",
   "execution_count": 13,
   "metadata": {},
   "outputs": [
    {
     "name": "stdout",
     "output_type": "stream",
     "text": [
      "-1.0\n",
      "1.0\n"
     ]
    }
   ],
   "source": [
    "print(X_train.min())\n",
    "print(X_train.max())"
   ]
  },
  {
   "cell_type": "code",
   "execution_count": 14,
   "metadata": {},
   "outputs": [],
   "source": [
    "import tensorflow as tf\n",
    "from tensorflow.keras.layers import Dense,Reshape,Dropout,LeakyReLU,Flatten,BatchNormalization,Conv2D,Conv2DTranspose \n",
    "from tensorflow.keras.models import Sequential\n"
   ]
  },
  {
   "cell_type": "code",
   "execution_count": 15,
   "metadata": {},
   "outputs": [],
   "source": [
    "np.random.seed(101)\n",
    "tf.random.set_seed(101)"
   ]
  },
  {
   "cell_type": "code",
   "execution_count": 16,
   "metadata": {},
   "outputs": [],
   "source": [
    "codings_size = 300\n",
    "img_shape=(40,40,1)"
   ]
  },
  {
   "cell_type": "code",
   "execution_count": 17,
   "metadata": {},
   "outputs": [],
   "source": [
    "generator = Sequential()\n",
    "generator.add(Dense(10* 10 * 256, input_shape=[codings_size]))\n",
    "generator.add(Reshape([10, 10, 256]))\n",
    "generator.add(BatchNormalization())\n",
    "generator.add(Conv2DTranspose(128, kernel_size=3, strides=2, padding=\"same\",\n",
    "                                 activation=\"relu\"))\n",
    "generator.add(BatchNormalization())\n",
    "\n",
    "generator.add(Conv2DTranspose(64, kernel_size=3, strides=1, padding='same',\n",
    "                              activation=\"relu\"))\n",
    "generator.add(BatchNormalization())\n",
    "\n",
    "generator.add(Conv2DTranspose(1, kernel_size=3, strides=2, padding=\"same\",\n",
    "                                 activation=\"tanh\"))\n",
    "\n",
    "discriminator = Sequential()\n",
    "discriminator.add(Conv2D(64, kernel_size=3, strides=1, padding=\"same\",\n",
    "                        activation=LeakyReLU(0.3),\n",
    "                        input_shape=img_shape))\n",
    "discriminator.add(Dropout(0.5))\n",
    "discriminator.add(Conv2D(128, kernel_size=5, strides=2, padding=\"same\",\n",
    "                        activation=LeakyReLU(0.3)))\n",
    "discriminator.add(Dropout(0.5))\n",
    "discriminator.add(Flatten())\n",
    "discriminator.add(Dense(1, activation=\"sigmoid\"))\n",
    "\n",
    "GAN = Sequential([generator, discriminator])"
   ]
  },
  {
   "cell_type": "code",
   "execution_count": 18,
   "metadata": {},
   "outputs": [],
   "source": [
    "discriminator.compile(loss=\"binary_crossentropy\", optimizer=\"adam\")\n",
    "discriminator.trainable = False\n",
    "GAN.compile(loss=\"binary_crossentropy\", optimizer=\"adam\")"
   ]
  },
  {
   "cell_type": "code",
   "execution_count": 19,
   "metadata": {},
   "outputs": [
    {
     "name": "stdout",
     "output_type": "stream",
     "text": [
      "Model: \"sequential_2\"\n",
      "_________________________________________________________________\n",
      "Layer (type)                 Output Shape              Param #   \n",
      "=================================================================\n",
      "sequential (Sequential)      (None, 40, 40, 1)         8076801   \n",
      "_________________________________________________________________\n",
      "sequential_1 (Sequential)    (None, 1)                 256769    \n",
      "=================================================================\n",
      "Total params: 8,333,570\n",
      "Trainable params: 8,075,905\n",
      "Non-trainable params: 257,665\n",
      "_________________________________________________________________\n",
      "Model: \"sequential\"\n",
      "_________________________________________________________________\n",
      "Layer (type)                 Output Shape              Param #   \n",
      "=================================================================\n",
      "dense (Dense)                (None, 25600)             7705600   \n",
      "_________________________________________________________________\n",
      "reshape (Reshape)            (None, 10, 10, 256)       0         \n",
      "_________________________________________________________________\n",
      "batch_normalization (BatchNo (None, 10, 10, 256)       1024      \n",
      "_________________________________________________________________\n",
      "conv2d_transpose (Conv2DTran (None, 20, 20, 128)       295040    \n",
      "_________________________________________________________________\n",
      "batch_normalization_1 (Batch (None, 20, 20, 128)       512       \n",
      "_________________________________________________________________\n",
      "conv2d_transpose_1 (Conv2DTr (None, 20, 20, 64)        73792     \n",
      "_________________________________________________________________\n",
      "batch_normalization_2 (Batch (None, 20, 20, 64)        256       \n",
      "_________________________________________________________________\n",
      "conv2d_transpose_2 (Conv2DTr (None, 40, 40, 1)         577       \n",
      "=================================================================\n",
      "Total params: 8,076,801\n",
      "Trainable params: 8,075,905\n",
      "Non-trainable params: 896\n",
      "_________________________________________________________________\n",
      "Model: \"sequential_1\"\n",
      "_________________________________________________________________\n",
      "Layer (type)                 Output Shape              Param #   \n",
      "=================================================================\n",
      "conv2d (Conv2D)              (None, 40, 40, 64)        640       \n",
      "_________________________________________________________________\n",
      "dropout (Dropout)            (None, 40, 40, 64)        0         \n",
      "_________________________________________________________________\n",
      "conv2d_1 (Conv2D)            (None, 20, 20, 128)       204928    \n",
      "_________________________________________________________________\n",
      "dropout_1 (Dropout)          (None, 20, 20, 128)       0         \n",
      "_________________________________________________________________\n",
      "flatten (Flatten)            (None, 51200)             0         \n",
      "_________________________________________________________________\n",
      "dense_1 (Dense)              (None, 1)                 51201     \n",
      "=================================================================\n",
      "WARNING:tensorflow:Discrepancy between trainable weights and collected trainable weights, did you set `model.trainable` without calling `model.compile` after ?\n",
      "Total params: 513,538\n",
      "Trainable params: 256,769\n",
      "Non-trainable params: 256,769\n",
      "_________________________________________________________________\n"
     ]
    }
   ],
   "source": [
    "GAN.layers\n",
    "GAN.summary()\n",
    "GAN.layers[0].summary()\n",
    "GAN.layers[1].summary()"
   ]
  },
  {
   "cell_type": "code",
   "execution_count": 25,
   "metadata": {},
   "outputs": [],
   "source": [
    "import tensorflow as tf\n",
    "batch_size = 32\n",
    "my_data = X_train\n",
    "dataset = tf.data.Dataset.from_tensor_slices(my_data).shuffle(buffer_size=1000)       \n",
    "dataset = dataset.batch(batch_size, drop_remainder=True).prefetch(1)    "
   ]
  },
  {
   "cell_type": "code",
   "execution_count": 27,
   "metadata": {},
   "outputs": [
    {
     "name": "stdout",
     "output_type": "stream",
     "text": [
      "Currently on Epoch 1\n",
      "\tCurrently on batch number 10 of 117\n",
      "\tCurrently on batch number 20 of 117\n",
      "\tCurrently on batch number 30 of 117\n",
      "\tCurrently on batch number 40 of 117\n",
      "\tCurrently on batch number 50 of 117\n",
      "\tCurrently on batch number 60 of 117\n",
      "\tCurrently on batch number 70 of 117\n",
      "\tCurrently on batch number 80 of 117\n",
      "\tCurrently on batch number 90 of 117\n",
      "\tCurrently on batch number 100 of 117\n",
      "\tCurrently on batch number 110 of 117\n",
      "Currently on Epoch 2\n",
      "\tCurrently on batch number 10 of 117\n",
      "\tCurrently on batch number 20 of 117\n",
      "\tCurrently on batch number 30 of 117\n",
      "\tCurrently on batch number 40 of 117\n",
      "\tCurrently on batch number 50 of 117\n",
      "\tCurrently on batch number 60 of 117\n",
      "\tCurrently on batch number 70 of 117\n",
      "\tCurrently on batch number 80 of 117\n",
      "\tCurrently on batch number 90 of 117\n",
      "\tCurrently on batch number 100 of 117\n",
      "\tCurrently on batch number 110 of 117\n",
      "Currently on Epoch 3\n",
      "\tCurrently on batch number 10 of 117\n",
      "\tCurrently on batch number 20 of 117\n",
      "\tCurrently on batch number 30 of 117\n",
      "\tCurrently on batch number 40 of 117\n",
      "\tCurrently on batch number 50 of 117\n",
      "\tCurrently on batch number 60 of 117\n",
      "\tCurrently on batch number 70 of 117\n",
      "\tCurrently on batch number 80 of 117\n",
      "\tCurrently on batch number 90 of 117\n",
      "\tCurrently on batch number 100 of 117\n",
      "\tCurrently on batch number 110 of 117\n",
      "Currently on Epoch 4\n",
      "\tCurrently on batch number 10 of 117\n",
      "\tCurrently on batch number 20 of 117\n",
      "\tCurrently on batch number 30 of 117\n",
      "\tCurrently on batch number 40 of 117\n",
      "\tCurrently on batch number 50 of 117\n",
      "\tCurrently on batch number 60 of 117\n",
      "\tCurrently on batch number 70 of 117\n",
      "\tCurrently on batch number 80 of 117\n",
      "\tCurrently on batch number 90 of 117\n",
      "\tCurrently on batch number 100 of 117\n",
      "\tCurrently on batch number 110 of 117\n",
      "Currently on Epoch 5\n",
      "\tCurrently on batch number 10 of 117\n",
      "\tCurrently on batch number 20 of 117\n",
      "\tCurrently on batch number 30 of 117\n",
      "\tCurrently on batch number 40 of 117\n",
      "\tCurrently on batch number 50 of 117\n",
      "\tCurrently on batch number 60 of 117\n",
      "\tCurrently on batch number 70 of 117\n",
      "\tCurrently on batch number 80 of 117\n",
      "\tCurrently on batch number 90 of 117\n",
      "\tCurrently on batch number 100 of 117\n",
      "\tCurrently on batch number 110 of 117\n",
      "Currently on Epoch 6\n",
      "\tCurrently on batch number 10 of 117\n",
      "\tCurrently on batch number 20 of 117\n",
      "\tCurrently on batch number 30 of 117\n",
      "\tCurrently on batch number 40 of 117\n",
      "\tCurrently on batch number 50 of 117\n",
      "\tCurrently on batch number 60 of 117\n",
      "\tCurrently on batch number 70 of 117\n",
      "\tCurrently on batch number 80 of 117\n",
      "\tCurrently on batch number 90 of 117\n",
      "\tCurrently on batch number 100 of 117\n",
      "\tCurrently on batch number 110 of 117\n",
      "Currently on Epoch 7\n",
      "\tCurrently on batch number 10 of 117\n",
      "\tCurrently on batch number 20 of 117\n",
      "\tCurrently on batch number 30 of 117\n",
      "\tCurrently on batch number 40 of 117\n",
      "\tCurrently on batch number 50 of 117\n",
      "\tCurrently on batch number 60 of 117\n",
      "\tCurrently on batch number 70 of 117\n",
      "\tCurrently on batch number 80 of 117\n",
      "\tCurrently on batch number 90 of 117\n",
      "\tCurrently on batch number 100 of 117\n",
      "\tCurrently on batch number 110 of 117\n",
      "Currently on Epoch 8\n",
      "\tCurrently on batch number 10 of 117\n",
      "\tCurrently on batch number 20 of 117\n",
      "\tCurrently on batch number 30 of 117\n",
      "\tCurrently on batch number 40 of 117\n",
      "\tCurrently on batch number 50 of 117\n",
      "\tCurrently on batch number 60 of 117\n",
      "\tCurrently on batch number 70 of 117\n",
      "\tCurrently on batch number 80 of 117\n",
      "\tCurrently on batch number 90 of 117\n",
      "\tCurrently on batch number 100 of 117\n",
      "\tCurrently on batch number 110 of 117\n",
      "Currently on Epoch 9\n",
      "\tCurrently on batch number 10 of 117\n",
      "\tCurrently on batch number 20 of 117\n",
      "\tCurrently on batch number 30 of 117\n",
      "\tCurrently on batch number 40 of 117\n",
      "\tCurrently on batch number 50 of 117\n",
      "\tCurrently on batch number 60 of 117\n",
      "\tCurrently on batch number 70 of 117\n",
      "\tCurrently on batch number 80 of 117\n",
      "\tCurrently on batch number 90 of 117\n",
      "\tCurrently on batch number 100 of 117\n",
      "\tCurrently on batch number 110 of 117\n",
      "Currently on Epoch 10\n",
      "\tCurrently on batch number 10 of 117\n",
      "\tCurrently on batch number 20 of 117\n",
      "\tCurrently on batch number 30 of 117\n",
      "\tCurrently on batch number 40 of 117\n",
      "\tCurrently on batch number 50 of 117\n",
      "\tCurrently on batch number 60 of 117\n",
      "\tCurrently on batch number 70 of 117\n",
      "\tCurrently on batch number 80 of 117\n",
      "\tCurrently on batch number 90 of 117\n",
      "\tCurrently on batch number 100 of 117\n",
      "\tCurrently on batch number 110 of 117\n",
      "TRAINING COMPLETE\n"
     ]
    }
   ],
   "source": [
    "generator, discriminator = GAN.layers\n",
    "\n",
    "epochs = 10\n",
    "\n",
    "# For every epochs\n",
    "for epoch in range(epochs):\n",
    "    print(f\"Currently on Epoch {epoch+1}\")\n",
    "    i = 0\n",
    "    # For every batch in the dataset\n",
    "    for X_batch in dataset:\n",
    "        i=i+1\n",
    "        if i%10 == 0:\n",
    "            print(f\"\\tCurrently on batch number {i} of {len(my_data)//batch_size}\")\n",
    "        #####################################\n",
    "        ## TRAINING THE DISCRIMINATOR ######\n",
    "        ###################################\n",
    "        \n",
    "        # Create Noise\n",
    "        noise = tf.random.normal(shape=[batch_size, codings_size]) \n",
    "        \n",
    "        # Generate numbers based just on noise input \n",
    "        gen_images = generator(noise)  #buat fake image dari ngerandom angka\n",
    "        \n",
    "        # Concatenate Generated Images against the Real Ones\n",
    "        # TO use tf.concat, the data types must match!\n",
    "        X_fake_vs_real = tf.concat([gen_images, tf.dtypes.cast(X_batch,tf.float32)], axis=0) #satuin input; data palsu+asli di concat\n",
    "        \n",
    "        # Targets set to zero for fake images and 1 for real images (labels)\n",
    "        y1 = tf.constant([[0.]] * batch_size + [[1.]] * batch_size) #buat label scr manual krn buat kasih tau discriminator mana asli, mana palsu (sesuai urutan concat)\n",
    "        \n",
    "        # This gets rid of a Keras warning\n",
    "        discriminator.trainable = True\n",
    "        \n",
    "        # Train the discriminator on this batch\n",
    "        discriminator.train_on_batch(X_fake_vs_real, y1)\n",
    "        \n",
    "        \n",
    "        #####################################\n",
    "        ## TRAINING THE GENERATOR     ######\n",
    "        ###################################\n",
    "        \n",
    "        # Create some noise\n",
    "        noise = tf.random.normal(shape=[batch_size, codings_size])\n",
    "        \n",
    "        # We want discriminator to belive that fake images are real\n",
    "        y2 = tf.constant([[1.]] * batch_size)\n",
    "        \n",
    "        # Avois a warning\n",
    "        discriminator.trainable = False\n",
    "        \n",
    "        GAN.train_on_batch(noise, y2)\n",
    "        \n",
    "print(\"TRAINING COMPLETE\")            \n"
   ]
  },
  {
   "cell_type": "code",
   "execution_count": 36,
   "metadata": {},
   "outputs": [],
   "source": [
    "from tensorflow.keras.models import load_model #save trained model\n",
    "generator.save('generator.h5') \n",
    "discriminator.save('discriminator.h5') "
   ]
  },
  {
   "cell_type": "code",
   "execution_count": 43,
   "metadata": {},
   "outputs": [
    {
     "data": {
      "text/plain": [
       "<matplotlib.image.AxesImage at 0x299c66b3f08>"
      ]
     },
     "execution_count": 43,
     "metadata": {},
     "output_type": "execute_result"
    },
    {
     "data": {
      "image/png": "[encoded data removed]",
      "text/plain": [
       "<Figure size 432x288 with 1 Axes>"
      ]
     },
     "metadata": {
      "needs_background": "light"
     },
     "output_type": "display_data"
    }
   ],
   "source": [
    "noise = tf.random.normal(shape=[6, codings_size]) #create 6 random inputs\n",
    "plt.imshow(noise)\n",
    "\n"
   ]
  },
  {
   "cell_type": "code",
   "execution_count": 47,
   "metadata": {},
   "outputs": [
    {
     "data": {
      "image/png": "[encoded data removed]",
      "text/plain": [
       "<Figure size 432x288 with 1 Axes>"
      ]
     },
     "metadata": {
      "needs_background": "light"
     },
     "output_type": "display_data"
    },
    {
     "data": {
      "image/png": "[encoded data removed]",
      "text/plain": [
       "<Figure size 432x288 with 1 Axes>"
      ]
     },
     "metadata": {
      "needs_background": "light"
     },
     "output_type": "display_data"
    },
    {
     "data": {
      "image/png": "[encoded data removed]",
      "text/plain": [
       "<Figure size 432x288 with 1 Axes>"
      ]
     },
     "metadata": {
      "needs_background": "light"
     },
     "output_type": "display_data"
    },
    {
     "data": {
      "image/png": "[encoded data removed]",
      "text/plain": [
       "<Figure size 432x288 with 1 Axes>"
      ]
     },
     "metadata": {
      "needs_background": "light"
     },
     "output_type": "display_data"
    },
    {
     "data": {
      "image/png": "[encoded data removed]",
      "text/plain": [
       "<Figure size 432x288 with 1 Axes>"
      ]
     },
     "metadata": {
      "needs_background": "light"
     },
     "output_type": "display_data"
    },
    {
     "data": {
      "image/png": "[encoded data removed]",
      "text/plain": [
       "<Figure size 432x288 with 1 Axes>"
      ]
     },
     "metadata": {
      "needs_background": "light"
     },
     "output_type": "display_data"
    }
   ],
   "source": [
    "images = generator(noise) #put 6 random inputs to generator\n",
    "\n",
    "for image in images:     #show the 6 outputs (stars) from trained generator\n",
    "    plt.imshow(image.numpy().reshape(40,40))\n",
    "    plt.show()"
   ]
  },
  {
   "cell_type": "code",
   "execution_count": null,
   "metadata": {},
   "outputs": [],
   "source": []
  },
  {
   "cell_type": "code",
   "execution_count": null,
   "metadata": {},
   "outputs": [],
   "source": []
  }
 ],
 "metadata": {
  "kernelspec": {
   "display_name": "Python 3",
   "language": "python",
   "name": "python3"
  },
  "language_info": {
   "codemirror_mode": {
    "name": "ipython",
    "version": 3
   },
   "file_extension": ".py",
   "mimetype": "text/x-python",
   "name": "python",
   "nbconvert_exporter": "python",
   "pygments_lexer": "ipython3",
   "version": "3.7.6"
  }
 },
 "nbformat": 4,
 "nbformat_minor": 4
}
