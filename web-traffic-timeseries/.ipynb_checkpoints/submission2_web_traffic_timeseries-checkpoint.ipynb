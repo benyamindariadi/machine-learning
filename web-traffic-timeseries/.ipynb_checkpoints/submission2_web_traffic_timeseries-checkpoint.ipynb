{
 "cells": [
  {
   "cell_type": "markdown",
   "metadata": {},
   "source": [
    "# Welcome to Web Traffic Timeseries Model"
   ]
  },
  {
   "cell_type": "markdown",
   "metadata": {},
   "source": [
    "by: I Gusti Bagus A"
   ]
  },
  {
   "cell_type": "markdown",
   "metadata": {},
   "source": [
    "### Import all dependencies"
   ]
  },
  {
   "cell_type": "code",
   "execution_count": 1,
   "metadata": {},
   "outputs": [
    {
     "name": "stdout",
     "output_type": "stream",
     "text": [
      "Requirement already satisfied: pydot==1.3.0 in /usr/local/anaconda3/lib/python3.7/site-packages (1.3.0)\n",
      "Requirement already satisfied: pyparsing>=2.1.4 in /usr/local/anaconda3/lib/python3.7/site-packages (from pydot==1.3.0) (2.4.6)\n",
      "Note: you may need to restart the kernel to use updated packages.\n"
     ]
    }
   ],
   "source": [
    "pip install pydot==1.3.0"
   ]
  },
  {
   "cell_type": "code",
   "execution_count": 2,
   "metadata": {},
   "outputs": [
    {
     "name": "stdout",
     "output_type": "stream",
     "text": [
      "Requirement already satisfied: graphviz==0.10.1 in /usr/local/anaconda3/lib/python3.7/site-packages (0.10.1)\n",
      "Note: you may need to restart the kernel to use updated packages.\n"
     ]
    }
   ],
   "source": [
    "pip install graphviz==0.10.1"
   ]
  },
  {
   "cell_type": "code",
   "execution_count": 3,
   "metadata": {},
   "outputs": [],
   "source": [
    "import numpy as np\n",
    "import pandas as pd\n",
    "import matplotlib.pyplot as plt\n",
    "import tensorflow as tf\n",
    "import matplotlib.image as mpimg\n",
    "from keras import callbacks\n",
    "from keras.layers import Dense, LSTM\n",
    "from keras.utils import plot_model\n",
    "from sklearn.model_selection import train_test_split"
   ]
  },
  {
   "cell_type": "markdown",
   "metadata": {},
   "source": [
    "### Import Dataset"
   ]
  },
  {
   "cell_type": "code",
   "execution_count": 4,
   "metadata": {},
   "outputs": [],
   "source": [
    "df = pd.read_csv('validation_score.csv')"
   ]
  },
  {
   "cell_type": "code",
   "execution_count": 5,
   "metadata": {},
   "outputs": [
    {
     "data": {
      "text/html": [
       "<div>\n",
       "<style scoped>\n",
       "    .dataframe tbody tr th:only-of-type {\n",
       "        vertical-align: middle;\n",
       "    }\n",
       "\n",
       "    .dataframe tbody tr th {\n",
       "        vertical-align: top;\n",
       "    }\n",
       "\n",
       "    .dataframe thead th {\n",
       "        text-align: right;\n",
       "    }\n",
       "</style>\n",
       "<table border=\"1\" class=\"dataframe\">\n",
       "  <thead>\n",
       "    <tr style=\"text-align: right;\">\n",
       "      <th></th>\n",
       "      <th>Unnamed: 0</th>\n",
       "      <th>median7</th>\n",
       "      <th>median14</th>\n",
       "      <th>median21</th>\n",
       "      <th>median28</th>\n",
       "      <th>median35</th>\n",
       "      <th>median42</th>\n",
       "      <th>median49</th>\n",
       "      <th>median7_h</th>\n",
       "      <th>median14_h</th>\n",
       "      <th>median21_h</th>\n",
       "      <th>median28_h</th>\n",
       "      <th>median35_h</th>\n",
       "      <th>median42_h</th>\n",
       "      <th>median49_h</th>\n",
       "      <th>holiday</th>\n",
       "      <th>holiday_log</th>\n",
       "      <th>yearly_log</th>\n",
       "    </tr>\n",
       "  </thead>\n",
       "  <tbody>\n",
       "    <tr>\n",
       "      <th>0</th>\n",
       "      <td>0</td>\n",
       "      <td>0.394786</td>\n",
       "      <td>0.398010</td>\n",
       "      <td>0.405826</td>\n",
       "      <td>0.405826</td>\n",
       "      <td>0.405826</td>\n",
       "      <td>0.405826</td>\n",
       "      <td>0.405826</td>\n",
       "      <td>0.489267</td>\n",
       "      <td>0.415286</td>\n",
       "      <td>0.405018</td>\n",
       "      <td>0.403895</td>\n",
       "      <td>0.405018</td>\n",
       "      <td>0.405018</td>\n",
       "      <td>0.403465</td>\n",
       "      <td>0.519470</td>\n",
       "      <td>0.424500</td>\n",
       "      <td>0.636273</td>\n",
       "    </tr>\n",
       "    <tr>\n",
       "      <th>1</th>\n",
       "      <td>1</td>\n",
       "      <td>0.415525</td>\n",
       "      <td>0.436615</td>\n",
       "      <td>0.484943</td>\n",
       "      <td>0.542946</td>\n",
       "      <td>0.484943</td>\n",
       "      <td>0.513212</td>\n",
       "      <td>0.503193</td>\n",
       "      <td>0.442488</td>\n",
       "      <td>0.432065</td>\n",
       "      <td>0.488515</td>\n",
       "      <td>0.539954</td>\n",
       "      <td>0.505501</td>\n",
       "      <td>0.507897</td>\n",
       "      <td>0.492611</td>\n",
       "      <td>0.748011</td>\n",
       "      <td>0.650149</td>\n",
       "      <td>0.409339</td>\n",
       "    </tr>\n",
       "    <tr>\n",
       "      <th>2</th>\n",
       "      <td>2</td>\n",
       "      <td>0.688429</td>\n",
       "      <td>0.500956</td>\n",
       "      <td>0.500956</td>\n",
       "      <td>0.492091</td>\n",
       "      <td>0.492091</td>\n",
       "      <td>0.492091</td>\n",
       "      <td>0.492091</td>\n",
       "      <td>0.531118</td>\n",
       "      <td>0.532642</td>\n",
       "      <td>0.500956</td>\n",
       "      <td>0.492091</td>\n",
       "      <td>0.497236</td>\n",
       "      <td>0.497236</td>\n",
       "      <td>0.497236</td>\n",
       "      <td>0.592786</td>\n",
       "      <td>0.527832</td>\n",
       "      <td>0.530204</td>\n",
       "    </tr>\n",
       "    <tr>\n",
       "      <th>3</th>\n",
       "      <td>3</td>\n",
       "      <td>0.356799</td>\n",
       "      <td>0.347737</td>\n",
       "      <td>0.356799</td>\n",
       "      <td>0.347737</td>\n",
       "      <td>0.356799</td>\n",
       "      <td>0.356799</td>\n",
       "      <td>0.356799</td>\n",
       "      <td>0.592931</td>\n",
       "      <td>0.340882</td>\n",
       "      <td>0.340882</td>\n",
       "      <td>0.340882</td>\n",
       "      <td>0.356799</td>\n",
       "      <td>0.356799</td>\n",
       "      <td>0.356799</td>\n",
       "      <td>0.486648</td>\n",
       "      <td>0.398567</td>\n",
       "      <td>0.346489</td>\n",
       "    </tr>\n",
       "    <tr>\n",
       "      <th>4</th>\n",
       "      <td>4</td>\n",
       "      <td>0.443860</td>\n",
       "      <td>0.453087</td>\n",
       "      <td>0.442593</td>\n",
       "      <td>0.489076</td>\n",
       "      <td>0.586340</td>\n",
       "      <td>0.586340</td>\n",
       "      <td>0.586340</td>\n",
       "      <td>0.475404</td>\n",
       "      <td>0.507502</td>\n",
       "      <td>0.485196</td>\n",
       "      <td>0.485196</td>\n",
       "      <td>0.573371</td>\n",
       "      <td>0.586340</td>\n",
       "      <td>0.586340</td>\n",
       "      <td>0.518994</td>\n",
       "      <td>0.496272</td>\n",
       "      <td>0.828707</td>\n",
       "    </tr>\n",
       "  </tbody>\n",
       "</table>\n",
       "</div>"
      ],
      "text/plain": [
       "   Unnamed: 0   median7  median14  median21  median28  median35  median42  \\\n",
       "0           0  0.394786  0.398010  0.405826  0.405826  0.405826  0.405826   \n",
       "1           1  0.415525  0.436615  0.484943  0.542946  0.484943  0.513212   \n",
       "2           2  0.688429  0.500956  0.500956  0.492091  0.492091  0.492091   \n",
       "3           3  0.356799  0.347737  0.356799  0.347737  0.356799  0.356799   \n",
       "4           4  0.443860  0.453087  0.442593  0.489076  0.586340  0.586340   \n",
       "\n",
       "   median49  median7_h  median14_h  median21_h  median28_h  median35_h  \\\n",
       "0  0.405826   0.489267    0.415286    0.405018    0.403895    0.405018   \n",
       "1  0.503193   0.442488    0.432065    0.488515    0.539954    0.505501   \n",
       "2  0.492091   0.531118    0.532642    0.500956    0.492091    0.497236   \n",
       "3  0.356799   0.592931    0.340882    0.340882    0.340882    0.356799   \n",
       "4  0.586340   0.475404    0.507502    0.485196    0.485196    0.573371   \n",
       "\n",
       "   median42_h  median49_h   holiday  holiday_log  yearly_log  \n",
       "0    0.405018    0.403465  0.519470     0.424500    0.636273  \n",
       "1    0.507897    0.492611  0.748011     0.650149    0.409339  \n",
       "2    0.497236    0.497236  0.592786     0.527832    0.530204  \n",
       "3    0.356799    0.356799  0.486648     0.398567    0.346489  \n",
       "4    0.586340    0.586340  0.518994     0.496272    0.828707  "
      ]
     },
     "execution_count": 5,
     "metadata": {},
     "output_type": "execute_result"
    }
   ],
   "source": [
    "df.head()"
   ]
  },
  {
   "cell_type": "code",
   "execution_count": 6,
   "metadata": {},
   "outputs": [
    {
     "name": "stdout",
     "output_type": "stream",
     "text": [
      "<class 'pandas.core.frame.DataFrame'>\n",
      "RangeIndex: 145063 entries, 0 to 145062\n",
      "Data columns (total 18 columns):\n",
      " #   Column       Non-Null Count   Dtype  \n",
      "---  ------       --------------   -----  \n",
      " 0   Unnamed: 0   145063 non-null  int64  \n",
      " 1   median7      145063 non-null  float64\n",
      " 2   median14     145063 non-null  float64\n",
      " 3   median21     145063 non-null  float64\n",
      " 4   median28     145063 non-null  float64\n",
      " 5   median35     145063 non-null  float64\n",
      " 6   median42     145063 non-null  float64\n",
      " 7   median49     145063 non-null  float64\n",
      " 8   median7_h    145063 non-null  float64\n",
      " 9   median14_h   145063 non-null  float64\n",
      " 10  median21_h   145063 non-null  float64\n",
      " 11  median28_h   145063 non-null  float64\n",
      " 12  median35_h   145063 non-null  float64\n",
      " 13  median42_h   145063 non-null  float64\n",
      " 14  median49_h   145063 non-null  float64\n",
      " 15  holiday      145063 non-null  float64\n",
      " 16  holiday_log  145063 non-null  float64\n",
      " 17  yearly_log   145063 non-null  float64\n",
      "dtypes: float64(17), int64(1)\n",
      "memory usage: 19.9 MB\n"
     ]
    }
   ],
   "source": [
    "df.info()"
   ]
  },
  {
   "cell_type": "markdown",
   "metadata": {},
   "source": [
    "### Preprocessing"
   ]
  },
  {
   "cell_type": "code",
   "execution_count": 7,
   "metadata": {},
   "outputs": [],
   "source": [
    "df = df[:12000]"
   ]
  },
  {
   "cell_type": "markdown",
   "metadata": {},
   "source": [
    "#### Rename Unnamed column"
   ]
  },
  {
   "cell_type": "code",
   "execution_count": 8,
   "metadata": {},
   "outputs": [],
   "source": [
    "df = df.rename(columns={'Unnamed: 0': 'series'})"
   ]
  },
  {
   "cell_type": "markdown",
   "metadata": {},
   "source": [
    "##### Check Null Value in dataset"
   ]
  },
  {
   "cell_type": "code",
   "execution_count": 9,
   "metadata": {},
   "outputs": [
    {
     "data": {
      "text/plain": [
       "series         0\n",
       "median7        0\n",
       "median14       0\n",
       "median21       0\n",
       "median28       0\n",
       "median35       0\n",
       "median42       0\n",
       "median49       0\n",
       "median7_h      0\n",
       "median14_h     0\n",
       "median21_h     0\n",
       "median28_h     0\n",
       "median35_h     0\n",
       "median42_h     0\n",
       "median49_h     0\n",
       "holiday        0\n",
       "holiday_log    0\n",
       "yearly_log     0\n",
       "dtype: int64"
      ]
     },
     "execution_count": 9,
     "metadata": {},
     "output_type": "execute_result"
    }
   ],
   "source": [
    "df.isnull().sum()"
   ]
  },
  {
   "cell_type": "markdown",
   "metadata": {},
   "source": [
    "##### Data Visualization"
   ]
  },
  {
   "cell_type": "code",
   "execution_count": 10,
   "metadata": {},
   "outputs": [],
   "source": [
    "dates = df['series'].values\n",
    "median7_h  = df['median7_h'].values"
   ]
  },
  {
   "cell_type": "code",
   "execution_count": 11,
   "metadata": {},
   "outputs": [
    {
     "data": {
      "image/png": "[encoded data removed]",
      "text/plain": [
       "<Figure size 1080x360 with 1 Axes>"
      ]
     },
     "metadata": {
      "needs_background": "light"
     },
     "output_type": "display_data"
    }
   ],
   "source": [
    "plt.figure(figsize=(15,5))\n",
    "plt.plot(dates, median7_h)\n",
    "plt.title('Median of 7 days data with holiday',\n",
    "          fontsize=20);"
   ]
  },
  {
   "cell_type": "markdown",
   "metadata": {},
   "source": [
    "### Check Max Data Max Value and Minimum Value"
   ]
  },
  {
   "cell_type": "code",
   "execution_count": 12,
   "metadata": {},
   "outputs": [
    {
     "name": "stdout",
     "output_type": "stream",
     "text": [
      "2.0\n"
     ]
    }
   ],
   "source": [
    "maximum = df['median7_h'].max()\n",
    "print(maximum)"
   ]
  },
  {
   "cell_type": "code",
   "execution_count": 13,
   "metadata": {},
   "outputs": [
    {
     "name": "stdout",
     "output_type": "stream",
     "text": [
      "0.0\n"
     ]
    }
   ],
   "source": [
    "minimum = df['median7_h'].min()\n",
    "print(minimum)"
   ]
  },
  {
   "cell_type": "markdown",
   "metadata": {},
   "source": [
    "#### Calculate Callback value"
   ]
  },
  {
   "cell_type": "code",
   "execution_count": 14,
   "metadata": {},
   "outputs": [],
   "source": [
    "callback_value = 0.1 * (maximum - minimum)"
   ]
  },
  {
   "cell_type": "markdown",
   "metadata": {},
   "source": [
    "### Data Splititng"
   ]
  },
  {
   "cell_type": "code",
   "execution_count": 15,
   "metadata": {},
   "outputs": [],
   "source": [
    "train_median7h, test_median7h, train_dates, test_dates = train_test_split(median7_h, dates, test_size=0.2)"
   ]
  },
  {
   "cell_type": "markdown",
   "metadata": {},
   "source": [
    "#### windowed dataset function"
   ]
  },
  {
   "cell_type": "code",
   "execution_count": 16,
   "metadata": {},
   "outputs": [],
   "source": [
    "def windowed_dataset(series, window_size, batch_size, shuffle_buffer):\n",
    "    series = tf.expand_dims(series, axis=-1)\n",
    "    ds = tf.data.Dataset.from_tensor_slices(series)\n",
    "    ds = ds.window(window_size + 1, shift=1, drop_remainder=True)\n",
    "    ds = ds.flat_map(lambda w: w.batch(window_size + 1))\n",
    "    ds = ds.shuffle(shuffle_buffer)\n",
    "    ds = ds.map(lambda w: (w[:-1], w[1:]))\n",
    "    return ds.batch(batch_size).prefetch(1)"
   ]
  },
  {
   "cell_type": "markdown",
   "metadata": {},
   "source": [
    "#### Convert the timeseries attributes into numpy"
   ]
  },
  {
   "cell_type": "code",
   "execution_count": 17,
   "metadata": {},
   "outputs": [],
   "source": [
    "train_set = windowed_dataset(train_median7h, window_size=30, batch_size=50, shuffle_buffer=500)\n",
    "test_set = windowed_dataset(test_median7h, window_size=30, batch_size=50, shuffle_buffer=500)"
   ]
  },
  {
   "cell_type": "markdown",
   "metadata": {},
   "source": [
    "### Create Model"
   ]
  },
  {
   "cell_type": "code",
   "execution_count": 18,
   "metadata": {},
   "outputs": [],
   "source": [
    "model = tf.keras.models.Sequential([\n",
    "  tf.keras.layers.LSTM(30, return_sequences=True),\n",
    "  tf.keras.layers.LSTM(30),\n",
    "  tf.keras.layers.Dense(15, activation=\"relu\"),\n",
    "  tf.keras.layers.Dense(5, activation=\"relu\"),\n",
    "  tf.keras.layers.Dense(1),\n",
    "])"
   ]
  },
  {
   "cell_type": "code",
   "execution_count": 19,
   "metadata": {},
   "outputs": [],
   "source": [
    "optimizer = tf.keras.optimizers.SGD(lr=1.0000e-04, momentum=0.8)"
   ]
  },
  {
   "cell_type": "code",
   "execution_count": 20,
   "metadata": {},
   "outputs": [],
   "source": [
    "model.compile(loss=tf.keras.losses.Huber(),\n",
    "              optimizer=optimizer,\n",
    "              metrics=[\"mae\"])"
   ]
  },
  {
   "cell_type": "markdown",
   "metadata": {},
   "source": [
    "### Create Callbacks"
   ]
  },
  {
   "cell_type": "code",
   "execution_count": 21,
   "metadata": {},
   "outputs": [],
   "source": [
    "class myCallback(callbacks.Callback):\n",
    "  def on_epoch_end(self, epoch, logs={}):\n",
    "    if(logs.get('mae')< callback_value):\n",
    "      print(\"\\nYour Mean Absolute Error < 10% from data scale!\")\n",
    "      self.model.stop_training = True"
   ]
  },
  {
   "cell_type": "code",
   "execution_count": 22,
   "metadata": {},
   "outputs": [],
   "source": [
    "callbacks = myCallback()"
   ]
  },
  {
   "cell_type": "markdown",
   "metadata": {},
   "source": [
    "### Fit Model"
   ]
  },
  {
   "cell_type": "code",
   "execution_count": 23,
   "metadata": {},
   "outputs": [
    {
     "name": "stdout",
     "output_type": "stream",
     "text": [
      "Epoch 1/50\n",
      "WARNING:tensorflow:Layer lstm is casting an input tensor from dtype float64 to the layer's dtype of float32, which is new behavior in TensorFlow 2.  The layer has dtype float32 because it's dtype defaults to floatx.\n",
      "\n",
      "If you intended to run this layer in float32, you can safely ignore this warning. If in doubt, this warning is likely only an issue if you are porting a TensorFlow 1.X model to TensorFlow 2.\n",
      "\n",
      "To change all layers to have dtype float64 by default, call `tf.keras.backend.set_floatx('float64')`. To change just this layer, pass dtype='float64' to the layer constructor. If you are the author of this layer, you can disable autocasting by passing autocast=False to the base Layer constructor.\n",
      "\n",
      "192/192 - 10s - loss: 0.1087 - mae: 0.3840 - val_loss: 0.0900 - val_mae: 0.3367\n",
      "Epoch 2/50\n",
      "192/192 - 9s - loss: 0.0811 - mae: 0.3061 - val_loss: 0.0688 - val_mae: 0.2730\n",
      "Epoch 3/50\n",
      "192/192 - 8s - loss: 0.0640 - mae: 0.2560 - val_loss: 0.0555 - val_mae: 0.2343\n",
      "Epoch 4/50\n",
      "192/192 - 7s - loss: 0.0533 - mae: 0.2269 - val_loss: 0.0474 - val_mae: 0.2123\n",
      "Epoch 5/50\n",
      "192/192 - 8s - loss: 0.0467 - mae: 0.2104 - val_loss: 0.0424 - val_mae: 0.2005\n",
      "Epoch 6/50\n",
      "192/192 - 9s - loss: 0.0428 - mae: 0.2013 - val_loss: 0.0394 - val_mae: 0.1944\n",
      "Epoch 7/50\n",
      "\n",
      "Your Mean Absolute Error < 10% from data scale!\n",
      "192/192 - 8s - loss: 0.0404 - mae: 0.1968 - val_loss: 0.0376 - val_mae: 0.1917\n"
     ]
    }
   ],
   "source": [
    "history = model.fit(train_set, epochs=50, callbacks=[callbacks], validation_data=(test_set), verbose=2)"
   ]
  },
  {
   "cell_type": "code",
   "execution_count": 24,
   "metadata": {},
   "outputs": [
    {
     "name": "stdout",
     "output_type": "stream",
     "text": [
      "Model: \"sequential\"\n",
      "_________________________________________________________________\n",
      "Layer (type)                 Output Shape              Param #   \n",
      "=================================================================\n",
      "lstm (LSTM)                  multiple                  3840      \n",
      "_________________________________________________________________\n",
      "lstm_1 (LSTM)                multiple                  7320      \n",
      "_________________________________________________________________\n",
      "dense (Dense)                multiple                  465       \n",
      "_________________________________________________________________\n",
      "dense_1 (Dense)              multiple                  80        \n",
      "_________________________________________________________________\n",
      "dense_2 (Dense)              multiple                  6         \n",
      "=================================================================\n",
      "Total params: 11,711\n",
      "Trainable params: 11,711\n",
      "Non-trainable params: 0\n",
      "_________________________________________________________________\n",
      "None\n"
     ]
    }
   ],
   "source": [
    "print(model.summary())"
   ]
  },
  {
   "cell_type": "code",
   "execution_count": 25,
   "metadata": {},
   "outputs": [
    {
     "data": {
      "image/png": "[encoded data removed]",
      "text/plain": [
       "<IPython.core.display.Image object>"
      ]
     },
     "execution_count": 25,
     "metadata": {},
     "output_type": "execute_result"
    }
   ],
   "source": [
    "plot_model(model, to_file='submission_2_web_traffic_timeseries.png')"
   ]
  },
  {
   "cell_type": "markdown",
   "metadata": {},
   "source": [
    "### Plotting"
   ]
  },
  {
   "cell_type": "markdown",
   "metadata": {},
   "source": [
    "#### Plot Model Loss"
   ]
  },
  {
   "cell_type": "code",
   "execution_count": 26,
   "metadata": {},
   "outputs": [
    {
     "data": {
      "image/png": "[encoded data removed]",
      "text/plain": [
       "<Figure size 432x288 with 1 Axes>"
      ]
     },
     "metadata": {
      "needs_background": "light"
     },
     "output_type": "display_data"
    }
   ],
   "source": [
    "plt.plot(history.history['loss'])\n",
    "plt.plot(history.history['val_loss'])\n",
    "plt.title('Loss Model')\n",
    "plt.ylabel('loss')\n",
    "plt.xlabel('epoch')\n",
    "plt.legend(['train', 'test'], loc='upper left')\n",
    "plt.show()"
   ]
  },
  {
   "cell_type": "markdown",
   "metadata": {},
   "source": [
    "#### Plot Model MAE"
   ]
  },
  {
   "cell_type": "code",
   "execution_count": 27,
   "metadata": {},
   "outputs": [
    {
     "data": {
      "image/png": "[encoded data removed]",
      "text/plain": [
       "<Figure size 432x288 with 1 Axes>"
      ]
     },
     "metadata": {
      "needs_background": "light"
     },
     "output_type": "display_data"
    }
   ],
   "source": [
    "plt.plot(history.history['mae'])\n",
    "plt.plot(history.history['val_mae'])\n",
    "plt.title('MAE Model')\n",
    "plt.ylabel('MAE')\n",
    "plt.xlabel('epoch')\n",
    "plt.legend(['train', 'test'], loc='upper left')\n",
    "plt.show()"
   ]
  },
  {
   "cell_type": "code",
   "execution_count": null,
   "metadata": {},
   "outputs": [],
   "source": []
  }
 ],
 "metadata": {
  "kernelspec": {
   "display_name": "Python 3.7.6 64-bit ('anaconda3': virtualenv)",
   "language": "python",
   "name": "python37664bitanaconda3virtualenv75d5475c12a94d19862e9f720c4e5a0e"
  },
  "language_info": {
   "codemirror_mode": {
    "name": "ipython",
    "version": 3
   },
   "file_extension": ".py",
   "mimetype": "text/x-python",
   "name": "python",
   "nbconvert_exporter": "python",
   "pygments_lexer": "ipython3",
   "version": "3.7.6"
  }
 },
 "nbformat": 4,
 "nbformat_minor": 4
}
